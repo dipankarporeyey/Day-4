{
 "cells": [
  {
   "cell_type": "code",
   "execution_count": 15,
   "metadata": {},
   "outputs": [],
   "source": [
    "import pandas as pd"
   ]
  },
  {
   "cell_type": "code",
   "execution_count": 16,
   "metadata": {},
   "outputs": [
    {
     "name": "stdout",
     "output_type": "stream",
     "text": [
      "   Apples  Bananans\n",
      "0      30        21\n"
     ]
    }
   ],
   "source": [
    "# 1.\n",
    "data = pd.DataFrame({\"Apples\":[30],\"Bananans\":[21]})\n",
    "print(data)"
   ]
  },
  {
   "cell_type": "code",
   "execution_count": 17,
   "metadata": {},
   "outputs": [
    {
     "name": "stdout",
     "output_type": "stream",
     "text": [
      "            Apples  Bananans\n",
      "2017 Sales      35        21\n",
      "2017 Sales      41        34\n"
     ]
    }
   ],
   "source": [
    "# 2.\n",
    "data = pd.DataFrame({\"Apples\":[35,41],\"Bananans\":[21,34]},index=[\"2017 Sales\",\"2017 Sales\"])\n",
    "print(data)"
   ]
  },
  {
   "cell_type": "code",
   "execution_count": 18,
   "metadata": {},
   "outputs": [
    {
     "name": "stdout",
     "output_type": "stream",
     "text": [
      "Flour     4 cups\n",
      "Milk       1 cup\n",
      "Eggs     2 large\n",
      "Spam       1 can\n",
      "Name: Dinner, dtype: object\n"
     ]
    }
   ],
   "source": [
    "# 3.\n",
    "series_1 = pd.Series({'Flour' : \"4 cups\", 'Milk' : \"1 cup\", 'Eggs' : \"2 large\", 'Spam' : \"1 can\"},name = 'Dinner')\n",
    "print(series_1)"
   ]
  },
  {
   "cell_type": "code",
   "execution_count": 19,
   "metadata": {},
   "outputs": [
    {
     "name": "stdout",
     "output_type": "stream",
     "text": [
      "     a  b    c\n",
      "0  1.0  2  NaN\n",
      "1  NaN  3  4.0\n"
     ]
    }
   ],
   "source": [
    "# 4.\n",
    "print(pd.DataFrame([{'a': 1, 'b': 2}, {'b': 3, 'c': 4}]))"
   ]
  },
  {
   "cell_type": "code",
   "execution_count": 20,
   "metadata": {},
   "outputs": [
    {
     "name": "stdout",
     "output_type": "stream",
     "text": [
      "True\n"
     ]
    }
   ],
   "source": [
    "# 5.\n",
    "import pandas as pd\n",
    "data = pd.Series([0.25,0.50,0.75,1],index=['a','b','c','d'])\n",
    "print('a' in data)"
   ]
  },
  {
   "cell_type": "code",
   "execution_count": null,
   "metadata": {},
   "outputs": [],
   "source": []
  }
 ],
 "metadata": {
  "kernelspec": {
   "display_name": "Python 3",
   "language": "python",
   "name": "python3"
  },
  "language_info": {
   "codemirror_mode": {
    "name": "ipython",
    "version": 3
   },
   "file_extension": ".py",
   "mimetype": "text/x-python",
   "name": "python",
   "nbconvert_exporter": "python",
   "pygments_lexer": "ipython3",
   "version": "3.7.6"
  }
 },
 "nbformat": 4,
 "nbformat_minor": 4
}
